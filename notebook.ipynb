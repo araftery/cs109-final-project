{
 "metadata": {
  "name": "",
  "signature": "sha256:da172825d81b661eb88c95371a8e4f21513bf80c4ef7b807d4cf5ddfeb7104e9"
 },
 "nbformat": 3,
 "nbformat_minor": 0,
 "worksheets": [
  {
   "cells": [
    {
     "cell_type": "code",
     "collapsed": false,
     "input": [
      "import pandas as pd\n",
      "import numpy as np\n",
      "import matplotlib.pyplot as plt\n",
      "import csv"
     ],
     "language": "python",
     "metadata": {},
     "outputs": [],
     "prompt_number": 1
    },
    {
     "cell_type": "code",
     "collapsed": false,
     "input": [
      "season = 2013"
     ],
     "language": "python",
     "metadata": {},
     "outputs": [],
     "prompt_number": 2
    },
    {
     "cell_type": "code",
     "collapsed": false,
     "input": [
      "df = pd.DataFrame.from_csv('data/play_by_play/{}.csv'.format(season)).reset_index()\n",
      "abbreviations = pd.DataFrame.from_csv('data/other/nfl_abbreviations.csv')"
     ],
     "language": "python",
     "metadata": {},
     "outputs": [
      {
       "output_type": "stream",
       "stream": "stderr",
       "text": [
        "//anaconda/lib/python2.7/site-packages/pandas/io/parsers.py:1070: DtypeWarning: Columns (49) have mixed types. Specify dtype option on import or set low_memory=False.\n",
        "  data = self._reader.read(nrows)\n"
       ]
      }
     ],
     "prompt_number": 3
    },
    {
     "cell_type": "code",
     "collapsed": false,
     "input": [
      "def abbreviation_to_team(abbv):\n",
      "    team = abbv\n",
      "    try:\n",
      "        team = abbreviations.ix[abbv].Team\n",
      "    except IndexError:\n",
      "        pass\n",
      "    finally:\n",
      "        return team"
     ],
     "language": "python",
     "metadata": {},
     "outputs": [],
     "prompt_number": 4
    },
    {
     "cell_type": "code",
     "collapsed": false,
     "input": [
      "df['Side of Field'] = df['Side of Field'].apply(abbreviation_to_team)"
     ],
     "language": "python",
     "metadata": {},
     "outputs": [],
     "prompt_number": 5
    },
    {
     "cell_type": "markdown",
     "metadata": {},
     "source": [
      "## Passer Rating + Rusher YPC/YPG\n",
      "\n",
      "The following finds the passer rating of the quarterback, and rusher YPC + YPG in each game. A few things to note:\n",
      "* The passer rating column has the quarterback's passer rating for the *season*, information that obviously would not be available at the time of the game\n",
      "* The passer and rusher ratings are the same for each game in every row. They're based on the first passer/rusher of the game. So, especially for rusher YPC and YPG, since most teams use multiple running backs throughout a game, the numbers may actually be for a different player than the one who takes the carry"
     ]
    },
    {
     "cell_type": "code",
     "collapsed": false,
     "input": [
      "with open('data/passing_stats/{}.csv'.format(season), 'r') as infile:\n",
      "    reader = csv.reader(infile)\n",
      "    players_list = list(reader)\n",
      "\n",
      "qbs = {}\n",
      "for player in players_list:\n",
      "    if player:\n",
      "        player_name = player[1].strip('*+ ')\n",
      "        try:\n",
      "            qbs[player_name] = player[20]\n",
      "        except:\n",
      "            pass\n",
      "\n",
      "def get_passer_rating(qb):\n",
      "    try:\n",
      "        # special case for RG3\n",
      "        if qb == 'Robert Griffin III':\n",
      "            qb = 'Robert Griffin'\n",
      "        rating = float(qbs.get(qb, np.nan))\n",
      "    except:\n",
      "        rating = np.nan\n",
      "    finally:\n",
      "        return rating"
     ],
     "language": "python",
     "metadata": {},
     "outputs": [],
     "prompt_number": 6
    },
    {
     "cell_type": "code",
     "collapsed": false,
     "input": [
      "with open('data/rushing_stats/{}.csv'.format(season), 'r') as infile:\n",
      "    reader = csv.reader(infile)\n",
      "    players_list = list(reader)\n",
      "\n",
      "rushers = {}\n",
      "for player in players_list:\n",
      "    if player:\n",
      "        player_name = player[1].strip('*+ ')\n",
      "        try:\n",
      "            rushers[player_name] = {'ypc': player[10], 'ypg': player[11]}\n",
      "        except:\n",
      "            pass\n",
      "\n",
      "def get_rusher_stat(stat):\n",
      "    def func(rusher):\n",
      "        try:\n",
      "            ypc = float(rushers[rusher][stat])\n",
      "        except:\n",
      "            ypc = np.nan\n",
      "        finally:\n",
      "            return ypc\n",
      "    \n",
      "    return func"
     ],
     "language": "python",
     "metadata": {},
     "outputs": [],
     "prompt_number": 7
    },
    {
     "cell_type": "code",
     "collapsed": false,
     "input": [
      "df['Passer Rating'] = df['Passer'].apply(get_passer_rating)"
     ],
     "language": "python",
     "metadata": {},
     "outputs": [],
     "prompt_number": 8
    },
    {
     "cell_type": "code",
     "collapsed": false,
     "input": [
      "df['Rusher YPG'] = df['Rusher'].apply(get_rusher_stat('ypg'))\n",
      "df['Rusher YPC'] = df['Rusher'].apply(get_rusher_stat('ypc'))"
     ],
     "language": "python",
     "metadata": {},
     "outputs": [],
     "prompt_number": 9
    },
    {
     "cell_type": "code",
     "collapsed": false,
     "input": [
      "games_list = df.copy().drop_duplicates(cols=['Date', 'Tm'])\n",
      "games_list_tuples = [tuple(x) for x in games_list[['Date', 'Tm']].values]"
     ],
     "language": "python",
     "metadata": {},
     "outputs": [],
     "prompt_number": 10
    },
    {
     "cell_type": "code",
     "collapsed": false,
     "input": [
      "for tup in games_list_tuples:\n",
      "    try:\n",
      "        passer_rating = df.loc[(df['Date'] == tup[0]) & (df['Tm'] == tup[1]) & (df['Passer Rating'].notnull()), 'Passer Rating'].iloc[0]\n",
      "        df.loc[(df['Date'] == tup[0]) & (df['Tm'] == tup[1]), 'Passer Rating'] = passer_rating\n",
      "\n",
      "        rusher_ypg = df.loc[(df['Date'] == tup[0]) & (df['Tm'] == tup[1]) & (df['Rusher YPG'].notnull()), 'Rusher YPG'].iloc[0]\n",
      "        df.loc[(df['Date'] == tup[0]) & (df['Tm'] == tup[1]), 'Rusher YPG'] = rusher_ypg\n",
      "\n",
      "        rusher_ypc = df.loc[(df['Date'] == tup[0]) & (df['Tm'] == tup[1]) & (df['Rusher YPC'].notnull()), 'Rusher YPC'].iloc[0]\n",
      "        df.loc[(df['Date'] == tup[0]) & (df['Tm'] == tup[1]), 'Rusher YPC'] = rusher_ypc\n",
      "    except:\n",
      "        pass"
     ],
     "language": "python",
     "metadata": {},
     "outputs": [],
     "prompt_number": 11
    },
    {
     "cell_type": "markdown",
     "metadata": {},
     "source": [
      "## Defense Rankings Against the Run and Pass"
     ]
    },
    {
     "cell_type": "code",
     "collapsed": false,
     "input": [
      "with open('data/defense_rankings/{}.csv'.format(season), 'r') as infile:\n",
      "    defense_rankings = pd.DataFrame.from_csv(infile)\n",
      "defense_rankings.head()"
     ],
     "language": "python",
     "metadata": {},
     "outputs": [
      {
       "html": [
        "<div style=\"max-height:1000px;max-width:1500px;overflow:auto;\">\n",
        "<table border=\"1\" class=\"dataframe\">\n",
        "  <thead>\n",
        "    <tr style=\"text-align: right;\">\n",
        "      <th></th>\n",
        "      <th>Y/P</th>\n",
        "      <th>Passing Y/A</th>\n",
        "      <th>Rushing Y/A</th>\n",
        "      <th>Pass Defense Ranking</th>\n",
        "      <th>Rush Defense Ranking</th>\n",
        "    </tr>\n",
        "    <tr>\n",
        "      <th>Tm</th>\n",
        "      <th></th>\n",
        "      <th></th>\n",
        "      <th></th>\n",
        "      <th></th>\n",
        "      <th></th>\n",
        "    </tr>\n",
        "  </thead>\n",
        "  <tbody>\n",
        "    <tr>\n",
        "      <th>Seahawks</th>\n",
        "      <td> 4.4</td>\n",
        "      <td> 4.8</td>\n",
        "      <td> 3.9</td>\n",
        "      <td>  1</td>\n",
        "      <td>  7</td>\n",
        "    </tr>\n",
        "    <tr>\n",
        "      <th>Panthers</th>\n",
        "      <td> 4.9</td>\n",
        "      <td> 5.5</td>\n",
        "      <td> 4.0</td>\n",
        "      <td>  4</td>\n",
        "      <td> 12</td>\n",
        "    </tr>\n",
        "    <tr>\n",
        "      <th>49ers</th>\n",
        "      <td> 5.0</td>\n",
        "      <td> 5.7</td>\n",
        "      <td> 3.9</td>\n",
        "      <td>  9</td>\n",
        "      <td>  8</td>\n",
        "    </tr>\n",
        "    <tr>\n",
        "      <th>Saints</th>\n",
        "      <td> 5.2</td>\n",
        "      <td> 5.6</td>\n",
        "      <td> 4.6</td>\n",
        "      <td>  7</td>\n",
        "      <td> 27</td>\n",
        "    </tr>\n",
        "    <tr>\n",
        "      <th>Chiefs</th>\n",
        "      <td> 5.5</td>\n",
        "      <td> 6.2</td>\n",
        "      <td> 4.5</td>\n",
        "      <td> 14</td>\n",
        "      <td> 24</td>\n",
        "    </tr>\n",
        "  </tbody>\n",
        "</table>\n",
        "<p>5 rows \u00d7 5 columns</p>\n",
        "</div>"
       ],
       "metadata": {},
       "output_type": "pyout",
       "prompt_number": 17,
       "text": [
        "          Y/P  Passing Y/A  Rushing Y/A  Pass Defense Ranking  \\\n",
        "Tm                                                              \n",
        "Seahawks  4.4          4.8          3.9                     1   \n",
        "Panthers  4.9          5.5          4.0                     4   \n",
        "49ers     5.0          5.7          3.9                     9   \n",
        "Saints    5.2          5.6          4.6                     7   \n",
        "Chiefs    5.5          6.2          4.5                    14   \n",
        "\n",
        "          Rush Defense Ranking  \n",
        "Tm                              \n",
        "Seahawks                     7  \n",
        "Panthers                    12  \n",
        "49ers                        8  \n",
        "Saints                      27  \n",
        "Chiefs                      24  \n",
        "\n",
        "[5 rows x 5 columns]"
       ]
      }
     ],
     "prompt_number": 17
    },
    {
     "cell_type": "code",
     "collapsed": false,
     "input": [
      "df['Pass Defense Ranking'] = df['Opp'].apply(lambda x: defense_rankings.ix[x]['Pass Defense Ranking'])\n",
      "df['Rush Defense Ranking'] = df['Opp'].apply(lambda x: defense_rankings.ix[x]['Rush Defense Ranking'])"
     ],
     "language": "python",
     "metadata": {},
     "outputs": [],
     "prompt_number": 24
    },
    {
     "cell_type": "code",
     "collapsed": false,
     "input": [],
     "language": "python",
     "metadata": {},
     "outputs": [],
     "prompt_number": 24
    },
    {
     "cell_type": "code",
     "collapsed": false,
     "input": [],
     "language": "python",
     "metadata": {},
     "outputs": []
    }
   ],
   "metadata": {}
  }
 ]
}