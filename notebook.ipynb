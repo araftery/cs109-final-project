{
 "metadata": {
  "name": "",
  "signature": "sha256:af80948799fabf0b11cd6aed4c543eba308fffc4614d9391c87982a2e0cdef2a"
 },
 "nbformat": 3,
 "nbformat_minor": 0,
 "worksheets": [
  {
   "cells": [
    {
     "cell_type": "code",
     "collapsed": false,
     "input": [
      "import pandas as pd\n",
      "import numpy as np\n",
      "import matplotlib.pyplot as plt\n",
      "import csv\n",
      "import datetime\n",
      "import seaborn as sns\n",
      "%matplotlib inline\n",
      "\n",
      "#nice defaults for matplotlib\n",
      "from matplotlib import rcParams\n",
      "\n",
      "dark2_colors = [(0.10588235294117647, 0.6196078431372549, 0.4666666666666667),\n",
      "                (0.8509803921568627, 0.37254901960784315, 0.00784313725490196),\n",
      "                (0.4588235294117647, 0.4392156862745098, 0.7019607843137254),\n",
      "                (0.9058823529411765, 0.1607843137254902, 0.5411764705882353),\n",
      "                (0.4, 0.6509803921568628, 0.11764705882352941),\n",
      "                (0.9019607843137255, 0.6705882352941176, 0.00784313725490196),\n",
      "                (0.6509803921568628, 0.4627450980392157, 0.11372549019607843),\n",
      "                (0.4, 0.4, 0.4)]\n",
      "\n",
      "rcParams['figure.figsize'] = (10, 6)\n",
      "rcParams['figure.dpi'] = 150\n",
      "rcParams['axes.color_cycle'] = dark2_colors\n",
      "rcParams['lines.linewidth'] = 2\n",
      "rcParams['axes.grid'] = True\n",
      "rcParams['axes.facecolor'] = '#eeeeee'\n",
      "rcParams['font.size'] = 14\n",
      "rcParams['patch.edgecolor'] = 'none'"
     ],
     "language": "python",
     "metadata": {},
     "outputs": [],
     "prompt_number": 239
    },
    {
     "cell_type": "code",
     "collapsed": false,
     "input": [
      "season = 2013"
     ],
     "language": "python",
     "metadata": {},
     "outputs": [],
     "prompt_number": 2
    },
    {
     "cell_type": "code",
     "collapsed": false,
     "input": [
      "df = pd.DataFrame.from_csv('data/play_by_play/{}.csv'.format(season)).reset_index()\n",
      "abbreviations = pd.DataFrame.from_csv('data/other/nfl_abbreviations.csv')"
     ],
     "language": "python",
     "metadata": {},
     "outputs": [
      {
       "output_type": "stream",
       "stream": "stderr",
       "text": [
        "//anaconda/lib/python2.7/site-packages/pandas/io/parsers.py:1070: DtypeWarning: Columns (49) have mixed types. Specify dtype option on import or set low_memory=False.\n",
        "  data = self._reader.read(nrows)\n"
       ]
      }
     ],
     "prompt_number": 3
    },
    {
     "cell_type": "code",
     "collapsed": false,
     "input": [
      "def abbreviation_to_team(abbv):\n",
      "    team = abbv\n",
      "    try:\n",
      "        team = abbreviations.ix[abbv].Team\n",
      "    except IndexError:\n",
      "        pass\n",
      "    finally:\n",
      "        return team"
     ],
     "language": "python",
     "metadata": {},
     "outputs": [],
     "prompt_number": 4
    },
    {
     "cell_type": "code",
     "collapsed": false,
     "input": [
      "# clean up data\n",
      "\n",
      "# treat \"Pass\" and \"Sack\" as the same\n",
      "df['Pass'] = df['Play Type'].apply(lambda x: 1 if x == 'Pass' or x == 'Sack' else 0)\n",
      "df['Home'] = df['Team Game Location'].apply(lambda x: 1 if x == 'Home' else 0)\n",
      "\n",
      "df['Own Side'] = False\n",
      "df.loc[df['Side of Field'] == df['Tm'], 'Own Side'] = True"
     ],
     "language": "python",
     "metadata": {},
     "outputs": [],
     "prompt_number": 183
    },
    {
     "cell_type": "code",
     "collapsed": false,
     "input": [
      "def datetime_to_time(time_string):\n",
      "    time = np.nan\n",
      "    try:\n",
      "        dt = datetime.datetime.strptime(time_string, '%I:%M:%S %p')\n",
      "        minute = dt.hour\n",
      "        second = dt.minute\n",
      "        time = minute + float(second)/60\n",
      "    except TypeError:\n",
      "        time = np.nan\n",
      "    finally:\n",
      "        return time\n",
      "    \n",
      "df['Time Remaining in Quarter'] = df['Time'].apply(datetime_to_time)\n",
      "df['Time Remaining in Game'] = (4 - df['Quarter']) * 15 + df['Time Remaining in Quarter']\n",
      "df['Time Remaining in Half'] = ((df['Quarter'] / 2) - (df['Quarter'] / 2).astype(np.int)) * 30 + df['Time Remaining in Quarter']"
     ],
     "language": "python",
     "metadata": {},
     "outputs": [],
     "prompt_number": 227
    },
    {
     "cell_type": "markdown",
     "metadata": {},
     "source": [
      "## Passer Rating + Rusher YPC/YPG\n",
      "\n",
      "The following finds the passer rating of the quarterback, and rusher YPC + YPG in each game. A few things to note:\n",
      "* The passer rating column has the quarterback's passer rating for the *season*, information that obviously would not be available at the time of the game\n",
      "* The passer and rusher ratings are the same for each game in every row. They're based on the first passer/rusher of the game. So, especially for rusher YPC and YPG, since most teams use multiple running backs throughout a game, the numbers may actually be for a different player than the one who takes the carry"
     ]
    },
    {
     "cell_type": "code",
     "collapsed": false,
     "input": [
      "with open('data/passing_stats/{}.csv'.format(season), 'r') as infile:\n",
      "    reader = csv.reader(infile)\n",
      "    players_list = list(reader)\n",
      "\n",
      "qbs = {}\n",
      "for player in players_list:\n",
      "    if player:\n",
      "        player_name = player[1].strip('*+ ')\n",
      "        try:\n",
      "            qbs[player_name] = player[20]\n",
      "        except:\n",
      "            pass\n",
      "\n",
      "def get_passer_rating(qb):\n",
      "    try:\n",
      "        # special case for RG3\n",
      "        if qb == 'Robert Griffin III':\n",
      "            qb = 'Robert Griffin'\n",
      "        rating = float(qbs.get(qb, np.nan))\n",
      "    except:\n",
      "        rating = np.nan\n",
      "    finally:\n",
      "        return rating"
     ],
     "language": "python",
     "metadata": {},
     "outputs": [],
     "prompt_number": 6
    },
    {
     "cell_type": "code",
     "collapsed": false,
     "input": [
      "with open('data/rushing_stats/{}.csv'.format(season), 'r') as infile:\n",
      "    reader = csv.reader(infile)\n",
      "    players_list = list(reader)\n",
      "\n",
      "rushers = {}\n",
      "for player in players_list:\n",
      "    if player:\n",
      "        player_name = player[1].strip('*+ ')\n",
      "        try:\n",
      "            rushers[player_name] = {'ypc': player[10], 'ypg': player[11]}\n",
      "        except:\n",
      "            pass\n",
      "\n",
      "def get_rusher_stat(stat):\n",
      "    def func(rusher):\n",
      "        try:\n",
      "            ypc = float(rushers[rusher][stat])\n",
      "        except:\n",
      "            ypc = np.nan\n",
      "        finally:\n",
      "            return ypc\n",
      "    \n",
      "    return func"
     ],
     "language": "python",
     "metadata": {},
     "outputs": [],
     "prompt_number": 7
    },
    {
     "cell_type": "code",
     "collapsed": false,
     "input": [
      "df['Passer Rating'] = df['Passer'].apply(get_passer_rating)"
     ],
     "language": "python",
     "metadata": {},
     "outputs": [],
     "prompt_number": 8
    },
    {
     "cell_type": "code",
     "collapsed": false,
     "input": [
      "df['Rusher YPG'] = df['Rusher'].apply(get_rusher_stat('ypg'))\n",
      "df['Rusher YPC'] = df['Rusher'].apply(get_rusher_stat('ypc'))"
     ],
     "language": "python",
     "metadata": {},
     "outputs": [],
     "prompt_number": 9
    },
    {
     "cell_type": "code",
     "collapsed": false,
     "input": [
      "games_list = df.copy().drop_duplicates(cols=['Date', 'Tm'])\n",
      "games_list_tuples = [tuple(x) for x in games_list[['Date', 'Tm']].values]"
     ],
     "language": "python",
     "metadata": {},
     "outputs": [],
     "prompt_number": 30
    },
    {
     "cell_type": "code",
     "collapsed": false,
     "input": [
      "for tup in games_list_tuples:\n",
      "    try:\n",
      "        passer_rating = df.loc[(df['Date'] == tup[0]) & (df['Tm'] == tup[1]) & (df['Passer Rating'].notnull()), 'Passer Rating'].iloc[0]\n",
      "        df.loc[(df['Date'] == tup[0]) & (df['Tm'] == tup[1]), 'Passer Rating'] = passer_rating\n",
      "\n",
      "        rusher_ypg = df.loc[(df['Date'] == tup[0]) & (df['Tm'] == tup[1]) & (df['Rusher YPG'].notnull()), 'Rusher YPG'].iloc[0]\n",
      "        df.loc[(df['Date'] == tup[0]) & (df['Tm'] == tup[1]), 'Rusher YPG'] = rusher_ypg\n",
      "\n",
      "        rusher_ypc = df.loc[(df['Date'] == tup[0]) & (df['Tm'] == tup[1]) & (df['Rusher YPC'].notnull()), 'Rusher YPC'].iloc[0]\n",
      "        df.loc[(df['Date'] == tup[0]) & (df['Tm'] == tup[1]), 'Rusher YPC'] = rusher_ypc\n",
      "    except:\n",
      "        pass"
     ],
     "language": "python",
     "metadata": {},
     "outputs": [],
     "prompt_number": 31
    },
    {
     "cell_type": "markdown",
     "metadata": {},
     "source": [
      "## Defense Rankings Against the Run and Pass"
     ]
    },
    {
     "cell_type": "code",
     "collapsed": false,
     "input": [
      "with open('data/defense_rankings/{}.csv'.format(season), 'r') as infile:\n",
      "    defense_rankings = pd.DataFrame.from_csv(infile)\n",
      "defense_rankings.head()"
     ],
     "language": "python",
     "metadata": {},
     "outputs": [
      {
       "html": [
        "<div style=\"max-height:1000px;max-width:1500px;overflow:auto;\">\n",
        "<table border=\"1\" class=\"dataframe\">\n",
        "  <thead>\n",
        "    <tr style=\"text-align: right;\">\n",
        "      <th></th>\n",
        "      <th>Y/P</th>\n",
        "      <th>Passing Y/A</th>\n",
        "      <th>Rushing Y/A</th>\n",
        "      <th>Pass Defense Ranking</th>\n",
        "      <th>Rush Defense Ranking</th>\n",
        "    </tr>\n",
        "    <tr>\n",
        "      <th>Tm</th>\n",
        "      <th></th>\n",
        "      <th></th>\n",
        "      <th></th>\n",
        "      <th></th>\n",
        "      <th></th>\n",
        "    </tr>\n",
        "  </thead>\n",
        "  <tbody>\n",
        "    <tr>\n",
        "      <th>Seahawks</th>\n",
        "      <td> 4.4</td>\n",
        "      <td> 4.8</td>\n",
        "      <td> 3.9</td>\n",
        "      <td>  1</td>\n",
        "      <td>  7</td>\n",
        "    </tr>\n",
        "    <tr>\n",
        "      <th>Panthers</th>\n",
        "      <td> 4.9</td>\n",
        "      <td> 5.5</td>\n",
        "      <td> 4.0</td>\n",
        "      <td>  4</td>\n",
        "      <td> 12</td>\n",
        "    </tr>\n",
        "    <tr>\n",
        "      <th>49ers</th>\n",
        "      <td> 5.0</td>\n",
        "      <td> 5.7</td>\n",
        "      <td> 3.9</td>\n",
        "      <td>  9</td>\n",
        "      <td>  8</td>\n",
        "    </tr>\n",
        "    <tr>\n",
        "      <th>Saints</th>\n",
        "      <td> 5.2</td>\n",
        "      <td> 5.6</td>\n",
        "      <td> 4.6</td>\n",
        "      <td>  7</td>\n",
        "      <td> 27</td>\n",
        "    </tr>\n",
        "    <tr>\n",
        "      <th>Chiefs</th>\n",
        "      <td> 5.5</td>\n",
        "      <td> 6.2</td>\n",
        "      <td> 4.5</td>\n",
        "      <td> 14</td>\n",
        "      <td> 24</td>\n",
        "    </tr>\n",
        "  </tbody>\n",
        "</table>\n",
        "<p>5 rows \u00d7 5 columns</p>\n",
        "</div>"
       ],
       "metadata": {},
       "output_type": "pyout",
       "prompt_number": 17,
       "text": [
        "          Y/P  Passing Y/A  Rushing Y/A  Pass Defense Ranking  \\\n",
        "Tm                                                              \n",
        "Seahawks  4.4          4.8          3.9                     1   \n",
        "Panthers  4.9          5.5          4.0                     4   \n",
        "49ers     5.0          5.7          3.9                     9   \n",
        "Saints    5.2          5.6          4.6                     7   \n",
        "Chiefs    5.5          6.2          4.5                    14   \n",
        "\n",
        "          Rush Defense Ranking  \n",
        "Tm                              \n",
        "Seahawks                     7  \n",
        "Panthers                    12  \n",
        "49ers                        8  \n",
        "Saints                      27  \n",
        "Chiefs                      24  \n",
        "\n",
        "[5 rows x 5 columns]"
       ]
      }
     ],
     "prompt_number": 17
    },
    {
     "cell_type": "code",
     "collapsed": false,
     "input": [
      "df['Defense Passing Y/A'] = df['Opp'].apply(lambda x: defense_rankings.ix[x]['Passing Y/A'])\n",
      "df['Defense Rushing Y/A'] = df['Opp'].apply(lambda x: defense_rankings.ix[x]['Rushing Y/A'])"
     ],
     "language": "python",
     "metadata": {},
     "outputs": [],
     "prompt_number": 231
    },
    {
     "cell_type": "markdown",
     "metadata": {},
     "source": [
      "## Weather Data"
     ]
    },
    {
     "cell_type": "code",
     "collapsed": false,
     "input": [
      "with open('data/weather/{}.csv'.format(season), 'r') as infile:\n",
      "    weather = pd.DataFrame.from_csv(infile).reset_index()\n",
      "weather.head()"
     ],
     "language": "python",
     "metadata": {},
     "outputs": [
      {
       "html": [
        "<div style=\"max-height:1000px;max-width:1500px;overflow:auto;\">\n",
        "<table border=\"1\" class=\"dataframe\">\n",
        "  <thead>\n",
        "    <tr style=\"text-align: right;\">\n",
        "      <th></th>\n",
        "      <th>Week</th>\n",
        "      <th>Home Team</th>\n",
        "      <th>Away Team</th>\n",
        "      <th>Mean Temperature</th>\n",
        "      <th>Rain</th>\n",
        "      <th>Snow</th>\n",
        "      <th>Precipitation Inches</th>\n",
        "      <th>Snowfall Inches</th>\n",
        "      <th>Mean Wind Speed MPH</th>\n",
        "      <th>Dome</th>\n",
        "    </tr>\n",
        "  </thead>\n",
        "  <tbody>\n",
        "    <tr>\n",
        "      <th>0</th>\n",
        "      <td> 1</td>\n",
        "      <td>   49ers</td>\n",
        "      <td>  Packers</td>\n",
        "      <td> 65</td>\n",
        "      <td> False</td>\n",
        "      <td> False</td>\n",
        "      <td> 0</td>\n",
        "      <td> 0</td>\n",
        "      <td> 11</td>\n",
        "      <td> False</td>\n",
        "    </tr>\n",
        "    <tr>\n",
        "      <th>1</th>\n",
        "      <td> 1</td>\n",
        "      <td>   Bears</td>\n",
        "      <td>  Bengals</td>\n",
        "      <td> 75</td>\n",
        "      <td> False</td>\n",
        "      <td> False</td>\n",
        "      <td> 0</td>\n",
        "      <td> 0</td>\n",
        "      <td> 12</td>\n",
        "      <td> False</td>\n",
        "    </tr>\n",
        "    <tr>\n",
        "      <th>2</th>\n",
        "      <td> 1</td>\n",
        "      <td>   Bills</td>\n",
        "      <td> Patriots</td>\n",
        "      <td> 60</td>\n",
        "      <td>  True</td>\n",
        "      <td> False</td>\n",
        "      <td> 0</td>\n",
        "      <td> 0</td>\n",
        "      <td>  8</td>\n",
        "      <td> False</td>\n",
        "    </tr>\n",
        "    <tr>\n",
        "      <th>3</th>\n",
        "      <td> 1</td>\n",
        "      <td> Broncos</td>\n",
        "      <td>   Ravens</td>\n",
        "      <td> 78</td>\n",
        "      <td>  True</td>\n",
        "      <td> False</td>\n",
        "      <td> 0</td>\n",
        "      <td> 0</td>\n",
        "      <td>  6</td>\n",
        "      <td> False</td>\n",
        "    </tr>\n",
        "    <tr>\n",
        "      <th>4</th>\n",
        "      <td> 1</td>\n",
        "      <td>  Browns</td>\n",
        "      <td> Dolphins</td>\n",
        "      <td> 69</td>\n",
        "      <td> False</td>\n",
        "      <td> False</td>\n",
        "      <td> 0</td>\n",
        "      <td> 0</td>\n",
        "      <td> 11</td>\n",
        "      <td> False</td>\n",
        "    </tr>\n",
        "  </tbody>\n",
        "</table>\n",
        "<p>5 rows \u00d7 10 columns</p>\n",
        "</div>"
       ],
       "metadata": {},
       "output_type": "pyout",
       "prompt_number": 97,
       "text": [
        "   Week Home Team Away Team  Mean Temperature   Rain   Snow  \\\n",
        "0     1     49ers   Packers                65  False  False   \n",
        "1     1     Bears   Bengals                75  False  False   \n",
        "2     1     Bills  Patriots                60   True  False   \n",
        "3     1   Broncos    Ravens                78   True  False   \n",
        "4     1    Browns  Dolphins                69  False  False   \n",
        "\n",
        "   Precipitation Inches  Snowfall Inches  Mean Wind Speed MPH   Dome  \n",
        "0                     0                0                   11  False  \n",
        "1                     0                0                   12  False  \n",
        "2                     0                0                    8  False  \n",
        "3                     0                0                    6  False  \n",
        "4                     0                0                   11  False  \n",
        "\n",
        "[5 rows x 10 columns]"
       ]
      }
     ],
     "prompt_number": 97
    },
    {
     "cell_type": "code",
     "collapsed": false,
     "input": [
      "# split dataframe into two: one where the home team is in the \"Tm\" column\n",
      "# and another where the home team is in the \"Opp\" column\n",
      "df_home = df[df['Team Game Location'] == 'Home']\n",
      "df_away = df[df['Team Game Location'] == 'Away']"
     ],
     "language": "python",
     "metadata": {},
     "outputs": [],
     "prompt_number": 98
    },
    {
     "cell_type": "code",
     "collapsed": false,
     "input": [
      "df_home_weather = pd.merge(df_home, weather, left_on=['Tm', 'Opp', 'Game Week'], right_on=['Home Team', 'Away Team', 'Week'])\n",
      "df_away_weather = pd.merge(df_away, weather, left_on=['Opp', 'Tm', 'Game Week'], right_on=['Home Team', 'Away Team', 'Week'])"
     ],
     "language": "python",
     "metadata": {},
     "outputs": [],
     "prompt_number": 99
    },
    {
     "cell_type": "code",
     "collapsed": false,
     "input": [
      "df = pd.concat([df_home_weather, df_away_weather])\n",
      "\n",
      "# drop repetitive columns\n",
      "df.drop('Week', axis=1, inplace=True)"
     ],
     "language": "python",
     "metadata": {},
     "outputs": [],
     "prompt_number": 100
    },
    {
     "cell_type": "markdown",
     "metadata": {},
     "source": [
      "## Exploratory Analysis"
     ]
    },
    {
     "cell_type": "code",
     "collapsed": false,
     "input": [
      "df2 = df[['Tm', 'Play Type']]\n",
      "df2['Pass'] = df2['Play Type'].apply(lambda x: 1 if x == 'Pass' or x == 'Sack' else 0)\n",
      "percentage_plays_by_team = df2[['Tm', 'Play Type', 'Pass']].groupby('Tm').mean().sort('Pass')\n",
      "percentage_plays_by_team.hist(bins=16)\n",
      "plt.title('Distribution of % Pass Plays in {} By Team'.format(season))\n",
      "plt.ylabel('Freq')\n",
      "plt.xlabel('% Passing Plays')"
     ],
     "language": "python",
     "metadata": {},
     "outputs": [
      {
       "metadata": {},
       "output_type": "pyout",
       "prompt_number": 201,
       "text": [
        "<matplotlib.text.Text at 0x110db8750>"
       ]
      },
      {
       "metadata": {},
       "output_type": "display_data",
       "png": "[encoded data removed]",
       "text": [
        "<matplotlib.figure.Figure at 0x110da6ed0>"
       ]
      }
     ],
     "prompt_number": 201
    },
    {
     "cell_type": "code",
     "collapsed": false,
     "input": [
      "from sklearn.cross_validation import train_test_split\n",
      "\n",
      "# split dataset\n",
      "x_columns = [\n",
      "    'Quarter',\n",
      "    'Time Remaining in Half',\n",
      "    'Time Remaining in Game',\n",
      "    'Down',\n",
      "    'ToGo',\n",
      "    'Own Side',\n",
      "    'Score Differential',\n",
      "    'Absolute Score Differential',\n",
      "    'Game Week',\n",
      "    'Home',\n",
      "    'Yard Line',\n",
      "    'Passer Rating',\n",
      "    'Rusher YPC',\n",
      "    'Rusher YPG',\n",
      "    'Defense Passing Y/A',\n",
      "    'Defense Rushing Y/A',\n",
      "    'Mean Temperature',\n",
      "    'Rain',\n",
      "    'Snow',\n",
      "    'Precipitation Inches',\n",
      "    'Snowfall Inches',\n",
      "    'Mean Wind Speed MPH',\n",
      "    'Dome',\n",
      "]\n",
      "\n",
      "# get rid of any rows that have nan for any x column, or for pass\n",
      "df_no_nan = df.copy()\n",
      "for col in x_columns:\n",
      "    df_no_nan = df_no_nan[np.isfinite(df_no_nan[col])]\n",
      "\n",
      "df_no_nan = df_no_nan[np.isfinite(df_no_nan['Pass'])]\n",
      "    \n",
      "X = df_no_nan[x_columns]\n",
      "Y = df_no_nan['Pass']\n",
      "\n",
      "x_train, x_test, y_train, y_test = train_test_split(X,Y, test_size=.33, random_state=9345)\n",
      "\n",
      "print x_train.shape, x_test.shape, y_train.shape, y_test.shape"
     ],
     "language": "python",
     "metadata": {},
     "outputs": [
      {
       "output_type": "stream",
       "stream": "stdout",
       "text": [
        "(21379, 23) (10530, 23) (21379,) (10530,)\n"
       ]
      }
     ],
     "prompt_number": 236
    },
    {
     "cell_type": "markdown",
     "metadata": {},
     "source": [
      "## Modeling"
     ]
    },
    {
     "cell_type": "markdown",
     "metadata": {},
     "source": [
      "### Random Forest"
     ]
    },
    {
     "cell_type": "code",
     "collapsed": false,
     "input": [
      "from sklearn.ensemble import RandomForestClassifier\n",
      "from sklearn.cross_validation import cross_val_score\n",
      "\n",
      "scores = []\n",
      "n_trees_options = np.arange(299, 300)\n",
      "\n",
      "for n_trees in n_trees_options:\n",
      "    classifier = RandomForestClassifier(n_estimators=n_trees)\n",
      "    scores.append(cross_val_score(classifier, x_train, y_train, cv=10))"
     ],
     "language": "python",
     "metadata": {},
     "outputs": []
    },
    {
     "cell_type": "code",
     "collapsed": false,
     "input": [
      "### Your boxplot code here ###\n",
      "scores = np.array(scores)\n",
      "sns.boxplot(scores.T, names=np.arange(100, 100 + len(scores)))\n",
      "plt.ylabel('Score')\n",
      "plt.xlabel('N Trees')\n",
      "plt.xticks(rotation=90)\n",
      "plt.title('Distr. of Scores For Several Numbers of Trees')\n",
      "plt.show()"
     ],
     "language": "python",
     "metadata": {},
     "outputs": [
      {
       "metadata": {},
       "output_type": "display_data",
       "png": "[encoded data removed]",
       "text": [
        "<matplotlib.figure.Figure at 0x10a2ec090>"
       ]
      }
     ],
     "prompt_number": 253
    },
    {
     "cell_type": "raw",
     "metadata": {},
     "source": []
    },
    {
     "cell_type": "code",
     "collapsed": false,
     "input": [],
     "language": "python",
     "metadata": {},
     "outputs": [],
     "prompt_number": 202
    },
    {
     "cell_type": "code",
     "collapsed": false,
     "input": [],
     "language": "python",
     "metadata": {},
     "outputs": [],
     "prompt_number": 218
    },
    {
     "cell_type": "code",
     "collapsed": false,
     "input": [],
     "language": "python",
     "metadata": {},
     "outputs": []
    }
   ],
   "metadata": {}
  }
 ]
}