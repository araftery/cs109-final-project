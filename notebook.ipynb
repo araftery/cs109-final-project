{
 "metadata": {
  "name": "",
  "signature": "sha256:c15b4394801074e11de2ed2efbf677d1ba16f1941e0e15c20f2ad5a6824d621d"
 },
 "nbformat": 3,
 "nbformat_minor": 0,
 "worksheets": [
  {
   "cells": [
    {
     "cell_type": "code",
     "collapsed": false,
     "input": [
      "import pandas as pd\n",
      "import numpy as np\n",
      "import matplotlib.pyplot as plt\n",
      "import csv"
     ],
     "language": "python",
     "metadata": {},
     "outputs": [],
     "prompt_number": 75
    },
    {
     "cell_type": "code",
     "collapsed": false,
     "input": [
      "season = 2013"
     ],
     "language": "python",
     "metadata": {},
     "outputs": [],
     "prompt_number": 76
    },
    {
     "cell_type": "code",
     "collapsed": false,
     "input": [
      "df = pd.DataFrame.from_csv('data/play_by_play/{}.csv'.format(season)).reset_index()\n",
      "abbreviations = pd.DataFrame.from_csv('data/other/nfl_abbreviations.csv')"
     ],
     "language": "python",
     "metadata": {},
     "outputs": [],
     "prompt_number": 77
    },
    {
     "cell_type": "code",
     "collapsed": false,
     "input": [
      "def abbreviation_to_team(abbv):\n",
      "    team = abbv\n",
      "    try:\n",
      "        team = abbreviations.ix[abbv].Team\n",
      "    except IndexError:\n",
      "        pass\n",
      "    finally:\n",
      "        return team"
     ],
     "language": "python",
     "metadata": {},
     "outputs": [],
     "prompt_number": 78
    },
    {
     "cell_type": "code",
     "collapsed": false,
     "input": [
      "df['Side of Field'] = df['Side of Field'].apply(abbreviation_to_team)"
     ],
     "language": "python",
     "metadata": {},
     "outputs": [],
     "prompt_number": 79
    },
    {
     "cell_type": "markdown",
     "metadata": {},
     "source": [
      "## Passer Rating + Rusher YPC/YPG\n",
      "\n",
      "The following finds the passer rating of the quarterback, and rusher YPC + YPG in each game. A few things to note:\n",
      "* The passer rating column has the quarterback's passer rating for the *season*, information that obviously would not be available at the time of the game\n",
      "* The passer and rusher ratings are the same for each game in every row. They're based on the first passer/rusher of the game. So, especially for rusher YPC and YPG, since most teams use multiple running backs throughout a game, the numbers may actually be for a different player than the one who takes the carry"
     ]
    },
    {
     "cell_type": "code",
     "collapsed": false,
     "input": [
      "with open('data/passing_stats/{}.csv'.format(season), 'r') as infile:\n",
      "    reader = csv.reader(infile)\n",
      "    players_list = list(reader)\n",
      "\n",
      "qbs = {}\n",
      "for player in players_list:\n",
      "    if player:\n",
      "        player_name = player[1].strip('*+ ')\n",
      "        try:\n",
      "            qbs[player_name] = player[20]\n",
      "        except:\n",
      "            pass\n",
      "\n",
      "def get_passer_rating(qb):\n",
      "    try:\n",
      "        # special case for RG3\n",
      "        if qb == 'Robert Griffin III':\n",
      "            qb = 'Robert Griffin'\n",
      "        rating = float(qbs.get(qb, np.nan))\n",
      "    except:\n",
      "        rating = np.nan\n",
      "    finally:\n",
      "        return rating"
     ],
     "language": "python",
     "metadata": {},
     "outputs": [],
     "prompt_number": 124
    },
    {
     "cell_type": "code",
     "collapsed": false,
     "input": [
      "with open('data/rushing_stats/{}.csv'.format(season), 'r') as infile:\n",
      "    reader = csv.reader(infile)\n",
      "    players_list = list(reader)\n",
      "\n",
      "rushers = {}\n",
      "for player in players_list:\n",
      "    if player:\n",
      "        player_name = player[1].strip('*+ ')\n",
      "        try:\n",
      "            rushers[player_name] = {'ypc': player[10], 'ypg': player[11]}\n",
      "        except:\n",
      "            pass\n",
      "\n",
      "def get_rusher_stat(stat):\n",
      "    def func(rusher):\n",
      "        try:\n",
      "            ypc = float(rushers[rusher][stat])\n",
      "        except:\n",
      "            ypc = np.nan\n",
      "        finally:\n",
      "            return ypc\n",
      "    \n",
      "    return func"
     ],
     "language": "python",
     "metadata": {},
     "outputs": [],
     "prompt_number": 81
    },
    {
     "cell_type": "code",
     "collapsed": false,
     "input": [
      "df['Passer Rating'] = df['Passer'].apply(get_passer_rating)"
     ],
     "language": "python",
     "metadata": {},
     "outputs": [],
     "prompt_number": 130
    },
    {
     "cell_type": "code",
     "collapsed": false,
     "input": [
      "df['Rusher YPG'] = df['Rusher'].apply(get_rusher_stat('ypg'))\n",
      "df['Rusher YPC'] = df['Rusher'].apply(get_rusher_stat('ypc'))"
     ],
     "language": "python",
     "metadata": {},
     "outputs": [],
     "prompt_number": 83
    },
    {
     "cell_type": "code",
     "collapsed": false,
     "input": [
      "games_list = df.copy().drop_duplicates(cols=['Date', 'Tm'])\n",
      "games_list_tuples = [tuple(x) for x in games_list[['Date', 'Tm']].values]"
     ],
     "language": "python",
     "metadata": {},
     "outputs": [],
     "prompt_number": 85
    },
    {
     "cell_type": "code",
     "collapsed": false,
     "input": [
      "for tup in games_list_tuples:\n",
      "    try:\n",
      "        passer_rating = df.loc[(df['Date'] == tup[0]) & (df['Tm'] == tup[1]) & (df['Passer Rating'].notnull()), 'Passer Rating'].iloc[0]\n",
      "        df.loc[(df['Date'] == tup[0]) & (df['Tm'] == tup[1]), 'Passer Rating'] = passer_rating\n",
      "\n",
      "        rusher_ypg = df.loc[(df['Date'] == tup[0]) & (df['Tm'] == tup[1]) & (df['Rusher YPG'].notnull()), 'Rusher YPG'].iloc[0]\n",
      "        df.loc[(df['Date'] == tup[0]) & (df['Tm'] == tup[1]), 'Rusher YPG'] = rusher_ypg\n",
      "\n",
      "        rusher_ypc = df.loc[(df['Date'] == tup[0]) & (df['Tm'] == tup[1]) & (df['Rusher YPC'].notnull()), 'Rusher YPC'].iloc[0]\n",
      "        df.loc[(df['Date'] == tup[0]) & (df['Tm'] == tup[1]), 'Rusher YPC'] = rusher_ypc\n",
      "    except:\n",
      "        pass"
     ],
     "language": "python",
     "metadata": {},
     "outputs": [],
     "prompt_number": 131
    },
    {
     "cell_type": "markdown",
     "metadata": {},
     "source": []
    },
    {
     "cell_type": "code",
     "collapsed": false,
     "input": [],
     "language": "python",
     "metadata": {},
     "outputs": [],
     "prompt_number": 132
    },
    {
     "cell_type": "code",
     "collapsed": false,
     "input": [],
     "language": "python",
     "metadata": {},
     "outputs": [],
     "prompt_number": 132
    },
    {
     "cell_type": "code",
     "collapsed": false,
     "input": [],
     "language": "python",
     "metadata": {},
     "outputs": []
    }
   ],
   "metadata": {}
  }
 ]
}